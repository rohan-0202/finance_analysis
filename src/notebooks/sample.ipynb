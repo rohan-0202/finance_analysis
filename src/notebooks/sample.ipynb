{
 "cells": [
  {
   "cell_type": "code",
   "execution_count": 9,
   "metadata": {},
   "outputs": [],
   "source": [
    "import sys\n",
    "import os\n",
    "sys.path.append(os.path.abspath('./../'))  # Adjust this path as needed\n",
    "# Now try importing\n",
    "from db_util import get_historical_data\n",
    "db_name = \"./../../stock_data.db\"\n"
   ]
  },
  {
   "cell_type": "code",
   "execution_count": 10,
   "metadata": {},
   "outputs": [
    {
     "data": {
      "text/html": [
       "<div>\n",
       "<style scoped>\n",
       "    .dataframe tbody tr th:only-of-type {\n",
       "        vertical-align: middle;\n",
       "    }\n",
       "\n",
       "    .dataframe tbody tr th {\n",
       "        vertical-align: top;\n",
       "    }\n",
       "\n",
       "    .dataframe thead th {\n",
       "        text-align: right;\n",
       "    }\n",
       "</style>\n",
       "<table border=\"1\" class=\"dataframe\">\n",
       "  <thead>\n",
       "    <tr style=\"text-align: right;\">\n",
       "      <th></th>\n",
       "      <th>open</th>\n",
       "      <th>high</th>\n",
       "      <th>low</th>\n",
       "      <th>close</th>\n",
       "      <th>volume</th>\n",
       "    </tr>\n",
       "    <tr>\n",
       "      <th>timestamp</th>\n",
       "      <th></th>\n",
       "      <th></th>\n",
       "      <th></th>\n",
       "      <th></th>\n",
       "      <th></th>\n",
       "    </tr>\n",
       "  </thead>\n",
       "  <tbody>\n",
       "    <tr>\n",
       "      <th>2024-03-28 04:00:00+00:00</th>\n",
       "      <td>170.942838</td>\n",
       "      <td>171.420578</td>\n",
       "      <td>169.708660</td>\n",
       "      <td>170.674103</td>\n",
       "      <td>65672700</td>\n",
       "    </tr>\n",
       "    <tr>\n",
       "      <th>2024-04-01 04:00:00+00:00</th>\n",
       "      <td>170.385479</td>\n",
       "      <td>170.445194</td>\n",
       "      <td>168.683508</td>\n",
       "      <td>169.230927</td>\n",
       "      <td>46240500</td>\n",
       "    </tr>\n",
       "    <tr>\n",
       "      <th>2024-04-02 04:00:00+00:00</th>\n",
       "      <td>168.285371</td>\n",
       "      <td>168.544144</td>\n",
       "      <td>167.439360</td>\n",
       "      <td>168.046494</td>\n",
       "      <td>49329500</td>\n",
       "    </tr>\n",
       "    <tr>\n",
       "      <th>2024-04-03 04:00:00+00:00</th>\n",
       "      <td>167.996733</td>\n",
       "      <td>169.877850</td>\n",
       "      <td>167.787728</td>\n",
       "      <td>168.852692</td>\n",
       "      <td>47691700</td>\n",
       "    </tr>\n",
       "    <tr>\n",
       "      <th>2024-04-04 04:00:00+00:00</th>\n",
       "      <td>169.489689</td>\n",
       "      <td>171.112033</td>\n",
       "      <td>168.026611</td>\n",
       "      <td>168.026611</td>\n",
       "      <td>53704400</td>\n",
       "    </tr>\n",
       "  </tbody>\n",
       "</table>\n",
       "</div>"
      ],
      "text/plain": [
       "                                 open        high         low       close  \\\n",
       "timestamp                                                                   \n",
       "2024-03-28 04:00:00+00:00  170.942838  171.420578  169.708660  170.674103   \n",
       "2024-04-01 04:00:00+00:00  170.385479  170.445194  168.683508  169.230927   \n",
       "2024-04-02 04:00:00+00:00  168.285371  168.544144  167.439360  168.046494   \n",
       "2024-04-03 04:00:00+00:00  167.996733  169.877850  167.787728  168.852692   \n",
       "2024-04-04 04:00:00+00:00  169.489689  171.112033  168.026611  168.026611   \n",
       "\n",
       "                             volume  \n",
       "timestamp                            \n",
       "2024-03-28 04:00:00+00:00  65672700  \n",
       "2024-04-01 04:00:00+00:00  46240500  \n",
       "2024-04-02 04:00:00+00:00  49329500  \n",
       "2024-04-03 04:00:00+00:00  47691700  \n",
       "2024-04-04 04:00:00+00:00  53704400  "
      ]
     },
     "execution_count": 10,
     "metadata": {},
     "output_type": "execute_result"
    }
   ],
   "source": [
    "data = get_historical_data('AAPL', db_name=db_name)\n",
    "data.head()"
   ]
  },
  {
   "cell_type": "code",
   "execution_count": null,
   "metadata": {},
   "outputs": [],
   "source": []
  }
 ],
 "metadata": {
  "kernelspec": {
   "display_name": ".venv",
   "language": "python",
   "name": "python3"
  },
  "language_info": {
   "codemirror_mode": {
    "name": "ipython",
    "version": 3
   },
   "file_extension": ".py",
   "mimetype": "text/x-python",
   "name": "python",
   "nbconvert_exporter": "python",
   "pygments_lexer": "ipython3",
   "version": "3.12.3"
  }
 },
 "nbformat": 4,
 "nbformat_minor": 4
}
